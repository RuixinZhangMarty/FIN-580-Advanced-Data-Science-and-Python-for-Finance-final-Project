{
 "cells": [
  {
   "cell_type": "markdown",
   "metadata": {
    "collapsed": true
   },
   "source": [
    "# Advanced Data Science &amp; Python for Finance (Spring 2020)\n",
    "## Final Project:  Part 1 - Data Preparation and Exploration \n",
    "\n",
    "-----\n",
    "\n",
    "***FIN580-59305 Ruixin Zhang(individual work)***\n",
    "\n",
    "Netid: ruixin3 UIN: 670003383\n",
    "\n",
    "Master of Science in Finance, University of Illinois at Urbana-Champaign\n",
    "\n",
    "-----\n",
    "* [1.1 Download the constituents of the S&P 1500 using Capital IQ and read the excel file into the notebook. ](#1.1)\n",
    "* [1.2 Clean and organize the Excel file that you acquire from Capital IQ. Create a pandas data frame and save the clean file as sp1500.csv](#1.2)\n",
    "* [1.3 Determine how many constituents and industries are part of the S&P 1500. Before dropping NAs and after dropping NAs.](#1.3)\n",
    "* [1.4 Determine the top 5 worst & best performing industries based on pct_price_change_ytd.](#1.4)\n",
    "* [1.5 Create a new data frame for the worst industry and a new data frame for the best industry both based on % Price Change YTD. For each of these new data frames, use the  % Price Change 30 Day to plot the top five ranking for worst and best performance constituents.](#1.5)"
   ]
  },
  {
   "cell_type": "markdown",
   "metadata": {},
   "source": [
    "## Packages and Settings"
   ]
  },
  {
   "cell_type": "markdown",
   "metadata": {},
   "source": [
    "**Configuration**"
   ]
  },
  {
   "cell_type": "code",
   "execution_count": 134,
   "metadata": {},
   "outputs": [],
   "source": [
    "import intrinio_sdk\n",
    "import configparser as cp"
   ]
  },
  {
   "cell_type": "markdown",
   "metadata": {},
   "source": [
    "**Scientific Analysis**"
   ]
  },
  {
   "cell_type": "code",
   "execution_count": 135,
   "metadata": {},
   "outputs": [],
   "source": [
    "import pandas as pd\n",
    "import numpy as np\n",
    "import matplotlib.pyplot as plt\n",
    "%matplotlib inline"
   ]
  },
  {
   "cell_type": "markdown",
   "metadata": {},
   "source": [
    "<a id='1.1'></a>\n",
    "## 1.1 Download the constituents of the S&P 1500 using Capital IQ and read the excel file into the notebook. "
   ]
  },
  {
   "cell_type": "code",
   "execution_count": 136,
   "metadata": {},
   "outputs": [
    {
     "data": {
      "text/html": [
       "<div>\n",
       "<style scoped>\n",
       "    .dataframe tbody tr th:only-of-type {\n",
       "        vertical-align: middle;\n",
       "    }\n",
       "\n",
       "    .dataframe tbody tr th {\n",
       "        vertical-align: top;\n",
       "    }\n",
       "\n",
       "    .dataframe thead th {\n",
       "        text-align: right;\n",
       "    }\n",
       "</style>\n",
       "<table border=\"1\" class=\"dataframe\">\n",
       "  <thead>\n",
       "    <tr style=\"text-align: right;\">\n",
       "      <th></th>\n",
       "      <th>Company Name</th>\n",
       "      <th>Exchange:Ticker</th>\n",
       "      <th>Currency</th>\n",
       "      <th>Market Cap (mm) [Latest]*†</th>\n",
       "      <th>Revenue (mm)</th>\n",
       "      <th>% Price Change [Last Day]</th>\n",
       "      <th>% Price Change [30 Day]</th>\n",
       "      <th>% Price Change [YTD]</th>\n",
       "      <th>% Price Change [12 Month]</th>\n",
       "      <th>Price Close</th>\n",
       "      <th>P/E*†</th>\n",
       "      <th>P/BV*†</th>\n",
       "      <th>Primary Industry</th>\n",
       "    </tr>\n",
       "  </thead>\n",
       "  <tbody>\n",
       "    <tr>\n",
       "      <th>0</th>\n",
       "      <td>3D Systems Corporation</td>\n",
       "      <td>NYSE:DDD</td>\n",
       "      <td>USD</td>\n",
       "      <td>924.91</td>\n",
       "      <td>611.82</td>\n",
       "      <td>5.23%</td>\n",
       "      <td>7.53%</td>\n",
       "      <td>(10.29%)</td>\n",
       "      <td>(8.72%)</td>\n",
       "      <td>7.85</td>\n",
       "      <td>NM</td>\n",
       "      <td>1.89x</td>\n",
       "      <td>Technology Hardware, Storage and Peripherals</td>\n",
       "    </tr>\n",
       "    <tr>\n",
       "      <th>1</th>\n",
       "      <td>3M Company</td>\n",
       "      <td>NYSE:MMM</td>\n",
       "      <td>USD</td>\n",
       "      <td>85422.41</td>\n",
       "      <td>32348</td>\n",
       "      <td>1.90%</td>\n",
       "      <td>(0.32%)</td>\n",
       "      <td>(15.82%)</td>\n",
       "      <td>(16.84%)</td>\n",
       "      <td>148.51</td>\n",
       "      <td>17.10x</td>\n",
       "      <td>8.42x</td>\n",
       "      <td>Industrial Conglomerates</td>\n",
       "    </tr>\n",
       "    <tr>\n",
       "      <th>2</th>\n",
       "      <td>8x8, Inc.</td>\n",
       "      <td>NYSE:EGHT</td>\n",
       "      <td>USD</td>\n",
       "      <td>1943.63</td>\n",
       "      <td>418.53</td>\n",
       "      <td>0.42%</td>\n",
       "      <td>19.31%</td>\n",
       "      <td>3.66%</td>\n",
       "      <td>(20.99%)</td>\n",
       "      <td>18.97</td>\n",
       "      <td>NM</td>\n",
       "      <td>8.71x</td>\n",
       "      <td>Application Software</td>\n",
       "    </tr>\n",
       "    <tr>\n",
       "      <th>3</th>\n",
       "      <td>A. O. Smith Corporation</td>\n",
       "      <td>NYSE:AOS</td>\n",
       "      <td>USD</td>\n",
       "      <td>7217.48</td>\n",
       "      <td>2881.4</td>\n",
       "      <td>3.42%</td>\n",
       "      <td>11.36%</td>\n",
       "      <td>(5.98%)</td>\n",
       "      <td>(10.95%)</td>\n",
       "      <td>44.79</td>\n",
       "      <td>21.51x</td>\n",
       "      <td>4.47x</td>\n",
       "      <td>Building Products</td>\n",
       "    </tr>\n",
       "    <tr>\n",
       "      <th>4</th>\n",
       "      <td>AAON, Inc.</td>\n",
       "      <td>NasdaqGS:AAON</td>\n",
       "      <td>USD</td>\n",
       "      <td>2546.42</td>\n",
       "      <td>492.99</td>\n",
       "      <td>0.74%</td>\n",
       "      <td>(0.22%)</td>\n",
       "      <td>(0.95%)</td>\n",
       "      <td>3.36%</td>\n",
       "      <td>48.94</td>\n",
       "      <td>47.63x</td>\n",
       "      <td>8.31x</td>\n",
       "      <td>Building Products</td>\n",
       "    </tr>\n",
       "  </tbody>\n",
       "</table>\n",
       "</div>"
      ],
      "text/plain": [
       "              Company Name Exchange:Ticker Currency  \\\n",
       "0   3D Systems Corporation        NYSE:DDD      USD   \n",
       "1               3M Company        NYSE:MMM      USD   \n",
       "2                8x8, Inc.       NYSE:EGHT      USD   \n",
       "3  A. O. Smith Corporation        NYSE:AOS      USD   \n",
       "4               AAON, Inc.   NasdaqGS:AAON      USD   \n",
       "\n",
       "   Market Cap (mm) [Latest]*† Revenue (mm) % Price Change [Last Day]  \\\n",
       "0                      924.91       611.82                     5.23%   \n",
       "1                    85422.41        32348                     1.90%   \n",
       "2                     1943.63       418.53                     0.42%   \n",
       "3                     7217.48       2881.4                     3.42%   \n",
       "4                     2546.42       492.99                     0.74%   \n",
       "\n",
       "  % Price Change [30 Day] % Price Change [YTD] % Price Change [12 Month]  \\\n",
       "0                   7.53%             (10.29%)                   (8.72%)   \n",
       "1                 (0.32%)             (15.82%)                  (16.84%)   \n",
       "2                  19.31%                3.66%                  (20.99%)   \n",
       "3                  11.36%              (5.98%)                  (10.95%)   \n",
       "4                 (0.22%)              (0.95%)                     3.36%   \n",
       "\n",
       "   Price Close   P/E*† P/BV*†                              Primary Industry  \n",
       "0         7.85      NM  1.89x  Technology Hardware, Storage and Peripherals  \n",
       "1       148.51  17.10x  8.42x                      Industrial Conglomerates  \n",
       "2        18.97      NM  8.71x                          Application Software  \n",
       "3        44.79  21.51x  4.47x                             Building Products  \n",
       "4        48.94  47.63x  8.31x                             Building Products  "
      ]
     },
     "execution_count": 136,
     "metadata": {},
     "output_type": "execute_result"
    }
   ],
   "source": [
    "sp1500_df = pd.read_excel('C:/Users/z/Desktop/FIN580 PYTHON/sp1500_raw.xls', skiprows = 14, skipfooter = 12)\n",
    "sp1500_df.head()"
   ]
  },
  {
   "cell_type": "code",
   "execution_count": 137,
   "metadata": {},
   "outputs": [
    {
     "data": {
      "text/html": [
       "<div>\n",
       "<style scoped>\n",
       "    .dataframe tbody tr th:only-of-type {\n",
       "        vertical-align: middle;\n",
       "    }\n",
       "\n",
       "    .dataframe tbody tr th {\n",
       "        vertical-align: top;\n",
       "    }\n",
       "\n",
       "    .dataframe thead th {\n",
       "        text-align: right;\n",
       "    }\n",
       "</style>\n",
       "<table border=\"1\" class=\"dataframe\">\n",
       "  <thead>\n",
       "    <tr style=\"text-align: right;\">\n",
       "      <th></th>\n",
       "      <th>Company Name</th>\n",
       "      <th>Exchange:Ticker</th>\n",
       "      <th>Currency</th>\n",
       "      <th>Market Cap (mm) [Latest]*†</th>\n",
       "      <th>Revenue (mm)</th>\n",
       "      <th>% Price Change [Last Day]</th>\n",
       "      <th>% Price Change [30 Day]</th>\n",
       "      <th>% Price Change [YTD]</th>\n",
       "      <th>% Price Change [12 Month]</th>\n",
       "      <th>Price Close</th>\n",
       "      <th>P/E*†</th>\n",
       "      <th>P/BV*†</th>\n",
       "      <th>Primary Industry</th>\n",
       "    </tr>\n",
       "  </thead>\n",
       "  <tbody>\n",
       "    <tr>\n",
       "      <th>1501</th>\n",
       "      <td>Zebra Technologies Corporation</td>\n",
       "      <td>NasdaqGS:ZBRA</td>\n",
       "      <td>USD</td>\n",
       "      <td>12897.00</td>\n",
       "      <td>4471</td>\n",
       "      <td>3.87%</td>\n",
       "      <td>23.53%</td>\n",
       "      <td>(4.90%)</td>\n",
       "      <td>21.43%</td>\n",
       "      <td>242.92</td>\n",
       "      <td>24.61x</td>\n",
       "      <td>7.46x</td>\n",
       "      <td>Electronic Equipment and Instruments</td>\n",
       "    </tr>\n",
       "    <tr>\n",
       "      <th>1502</th>\n",
       "      <td>Zimmer Biomet Holdings, Inc.</td>\n",
       "      <td>NYSE:ZBH</td>\n",
       "      <td>USD</td>\n",
       "      <td>25186.22</td>\n",
       "      <td>7982.2</td>\n",
       "      <td>2.06%</td>\n",
       "      <td>9.51%</td>\n",
       "      <td>(18.59%)</td>\n",
       "      <td>(0.57%)</td>\n",
       "      <td>121.86</td>\n",
       "      <td>21.83x</td>\n",
       "      <td>2.03x</td>\n",
       "      <td>Health Care Equipment</td>\n",
       "    </tr>\n",
       "    <tr>\n",
       "      <th>1503</th>\n",
       "      <td>Zions Bancorporation, National Association</td>\n",
       "      <td>NasdaqGS:ZION</td>\n",
       "      <td>USD</td>\n",
       "      <td>5033.84</td>\n",
       "      <td>2533</td>\n",
       "      <td>3.89%</td>\n",
       "      <td>4.35%</td>\n",
       "      <td>(40.83%)</td>\n",
       "      <td>(36.25%)</td>\n",
       "      <td>30.72</td>\n",
       "      <td>9.23x</td>\n",
       "      <td>0.73x</td>\n",
       "      <td>Regional Banks</td>\n",
       "    </tr>\n",
       "    <tr>\n",
       "      <th>1504</th>\n",
       "      <td>Zoetis Inc.</td>\n",
       "      <td>NYSE:ZTS</td>\n",
       "      <td>USD</td>\n",
       "      <td>59590.82</td>\n",
       "      <td>6339</td>\n",
       "      <td>0.99%</td>\n",
       "      <td>(1.40%)</td>\n",
       "      <td>(5.20%)</td>\n",
       "      <td>23.18%</td>\n",
       "      <td>125.47</td>\n",
       "      <td>37.19x</td>\n",
       "      <td>21.64x</td>\n",
       "      <td>Pharmaceuticals</td>\n",
       "    </tr>\n",
       "    <tr>\n",
       "      <th>1505</th>\n",
       "      <td>Zumiez Inc.</td>\n",
       "      <td>NasdaqGS:ZUMZ</td>\n",
       "      <td>USD</td>\n",
       "      <td>517.60</td>\n",
       "      <td>1034.13</td>\n",
       "      <td>6.04%</td>\n",
       "      <td>(2.30%)</td>\n",
       "      <td>(41.02%)</td>\n",
       "      <td>(21.50%)</td>\n",
       "      <td>20.37</td>\n",
       "      <td>7.33x</td>\n",
       "      <td>1.13x</td>\n",
       "      <td>Apparel Retail</td>\n",
       "    </tr>\n",
       "  </tbody>\n",
       "</table>\n",
       "</div>"
      ],
      "text/plain": [
       "                                    Company Name Exchange:Ticker Currency  \\\n",
       "1501              Zebra Technologies Corporation   NasdaqGS:ZBRA      USD   \n",
       "1502                Zimmer Biomet Holdings, Inc.        NYSE:ZBH      USD   \n",
       "1503  Zions Bancorporation, National Association   NasdaqGS:ZION      USD   \n",
       "1504                                 Zoetis Inc.        NYSE:ZTS      USD   \n",
       "1505                                 Zumiez Inc.   NasdaqGS:ZUMZ      USD   \n",
       "\n",
       "      Market Cap (mm) [Latest]*† Revenue (mm) % Price Change [Last Day]  \\\n",
       "1501                    12897.00         4471                     3.87%   \n",
       "1502                    25186.22       7982.2                     2.06%   \n",
       "1503                     5033.84         2533                     3.89%   \n",
       "1504                    59590.82         6339                     0.99%   \n",
       "1505                      517.60      1034.13                     6.04%   \n",
       "\n",
       "     % Price Change [30 Day] % Price Change [YTD] % Price Change [12 Month]  \\\n",
       "1501                  23.53%              (4.90%)                    21.43%   \n",
       "1502                   9.51%             (18.59%)                   (0.57%)   \n",
       "1503                   4.35%             (40.83%)                  (36.25%)   \n",
       "1504                 (1.40%)              (5.20%)                    23.18%   \n",
       "1505                 (2.30%)             (41.02%)                  (21.50%)   \n",
       "\n",
       "      Price Close   P/E*†  P/BV*†                      Primary Industry  \n",
       "1501       242.92  24.61x   7.46x  Electronic Equipment and Instruments  \n",
       "1502       121.86  21.83x   2.03x                 Health Care Equipment  \n",
       "1503        30.72   9.23x   0.73x                        Regional Banks  \n",
       "1504       125.47  37.19x  21.64x                       Pharmaceuticals  \n",
       "1505        20.37   7.33x   1.13x                        Apparel Retail  "
      ]
     },
     "execution_count": 137,
     "metadata": {},
     "output_type": "execute_result"
    }
   ],
   "source": [
    "sp1500_df.tail()"
   ]
  },
  {
   "cell_type": "code",
   "execution_count": 138,
   "metadata": {},
   "outputs": [
    {
     "data": {
      "text/plain": [
       "Index(['Company Name', 'Exchange:Ticker', 'Currency',\n",
       "       'Market Cap (mm) [Latest]*†', 'Revenue (mm)',\n",
       "       '% Price Change [Last Day]', '% Price Change [30 Day]',\n",
       "       '% Price Change [YTD]', '% Price Change [12 Month]', 'Price Close',\n",
       "       'P/E*†', 'P/BV*†', 'Primary Industry'],\n",
       "      dtype='object')"
      ]
     },
     "execution_count": 138,
     "metadata": {},
     "output_type": "execute_result"
    }
   ],
   "source": [
    "sp1500_df.columns"
   ]
  },
  {
   "cell_type": "markdown",
   "metadata": {},
   "source": [
    "<a id='1.2'></a>\n",
    "## 1.2 Clean and organize the Excel file that you acquire from Capital IQ. Create a pandas data frame and save the clean file as sp1500.csv"
   ]
  },
  {
   "cell_type": "code",
   "execution_count": 139,
   "metadata": {},
   "outputs": [],
   "source": [
    "sp1500_df.columns = ['company', 'Exchange:Ticker', 'currency',\n",
    "                 'marketcap_mm', 'revenue_mm', 'pct_price_change_lastday',\n",
    "                 'pct_pricechange_30day', 'pct_price_change_ytd', 'pct_price_change_12_month', \n",
    "                 'price_close', 'price_earnings_ratio', 'price_bookvalue_ratio', 'industry']"
   ]
  },
  {
   "cell_type": "code",
   "execution_count": 140,
   "metadata": {},
   "outputs": [],
   "source": [
    "sp1500_df['exchange'] = sp1500_df['Exchange:Ticker'].apply(lambda i:i.split(\":\")[0])\n",
    "sp1500_df['ticker']  = sp1500_df['Exchange:Ticker'].apply(lambda i:i.split(\":\")[1])"
   ]
  },
  {
   "cell_type": "code",
   "execution_count": 141,
   "metadata": {},
   "outputs": [
    {
     "data": {
      "text/plain": [
       "Index(['company', 'marketcap_mm', 'revenue_mm', 'pct_price_change_lastday',\n",
       "       'pct_pricechange_30day', 'pct_price_change_ytd',\n",
       "       'pct_price_change_12_month', 'price_close', 'price_earnings_ratio',\n",
       "       'price_bookvalue_ratio', 'industry', 'exchange', 'ticker'],\n",
       "      dtype='object')"
      ]
     },
     "execution_count": 141,
     "metadata": {},
     "output_type": "execute_result"
    }
   ],
   "source": [
    "sp1500_df = sp1500_df.drop(columns=['Exchange:Ticker','currency'])\n",
    "sp1500_df.columns"
   ]
  },
  {
   "cell_type": "markdown",
   "metadata": {},
   "source": [
    "**Reorder columns**"
   ]
  },
  {
   "cell_type": "code",
   "execution_count": 142,
   "metadata": {},
   "outputs": [
    {
     "data": {
      "text/plain": [
       "(1506, 13)"
      ]
     },
     "execution_count": 142,
     "metadata": {},
     "output_type": "execute_result"
    }
   ],
   "source": [
    "sp1500_df = sp1500_df[['company','ticker', 'price_close', 'pct_price_change_lastday', \n",
    "               'pct_pricechange_30day', 'pct_price_change_ytd', 'pct_price_change_12_month',\n",
    "               'price_earnings_ratio', 'price_bookvalue_ratio', 'marketcap_mm', \n",
    "               'revenue_mm','exchange', 'industry']]\n",
    "\n",
    "sp1500_df.shape"
   ]
  },
  {
   "cell_type": "markdown",
   "metadata": {},
   "source": [
    "**Remove the Percentage sign, \"-\" sign and parentheses from pct_price_change_lastday, pct_pricechange_30day, pct_price_change_ytd and pct_price_change_12_month**"
   ]
  },
  {
   "cell_type": "code",
   "execution_count": 143,
   "metadata": {},
   "outputs": [],
   "source": [
    "pct_price_change_lastday = sp1500_df['pct_price_change_lastday'].apply(lambda x: x.replace('-', \"\"))\n",
    "pct_price_change_lastday = pct_price_change_lastday.apply(lambda x: x.replace('(', '-'))\n",
    "pct_price_change_lastday = pct_price_change_lastday.apply(lambda x: x.replace(')', ''))\n",
    "pct_price_change_lastday = pct_price_change_lastday.apply(lambda x: x.replace('%', ''))\n",
    "pct_price_change_lastday = pd.to_numeric(pct_price_change_lastday)\n",
    "\n",
    "pct_pricechange_30day = sp1500_df['pct_pricechange_30day'].apply(lambda x: x.replace('-', \"\"))\n",
    "pct_pricechange_30day = pct_pricechange_30day.apply(lambda x: x.replace('(', '-'))\n",
    "pct_pricechange_30day = pct_pricechange_30day.apply(lambda x: x.replace(')', ''))\n",
    "pct_pricechange_30day = pct_pricechange_30day.apply(lambda x: x.replace('%', ''))\n",
    "pct_pricechange_30day = pd.to_numeric(pct_pricechange_30day)\n",
    "\n",
    "pct_price_change_ytd = sp1500_df['pct_price_change_ytd'].apply(lambda x: x.replace('-', \"\"))\n",
    "pct_price_change_ytd = pct_price_change_ytd.apply(lambda x: x.replace('(', '-'))\n",
    "pct_price_change_ytd = pct_price_change_ytd.apply(lambda x: x.replace(')', ''))\n",
    "pct_price_change_ytd = pct_price_change_ytd.apply(lambda x: x.replace('%', ''))\n",
    "pct_price_change_ytd = pd.to_numeric(pct_price_change_ytd)\n",
    "\n",
    "pct_price_change_12_month = sp1500_df['pct_price_change_12_month'].apply(lambda x: x.replace('-', \"\"))\n",
    "pct_price_change_12_month = pct_price_change_12_month.apply(lambda x: x.replace('(', '-'))\n",
    "pct_price_change_12_month = pct_price_change_12_month.apply(lambda x: x.replace(')', ''))\n",
    "pct_price_change_12_month = pct_price_change_12_month.apply(lambda x: x.replace('%', ''))\n",
    "pct_price_change_12_month = pd.to_numeric(pct_price_change_12_month)"
   ]
  },
  {
   "cell_type": "markdown",
   "metadata": {},
   "source": [
    "***After careful considerations, I found that we need to do some further data cleaning and processing for some of the other columns not mentioned above in the sp1500_df dataframe, because those columns include \"NM\" values meaning \"non-meaningful values\" . We will replace those values with \" \"(blanks), transforming values from those columns into numeric values and drop those rows using \"dropna()\" function in the next few steps. Besides, the columns of price_earnings_ratio and price_bookvalue_ratio include character values with a Multiplication sign(x) in the end, we think it's better to remove this sign in both columns and turn those character values to numeric values. We will also replace the \"-\" signs with blanks in the column of revenue_mm too.***"
   ]
  },
  {
   "cell_type": "markdown",
   "metadata": {},
   "source": [
    "**Remove the \"-\"/\"NM\" signs and replace it with blanks from the columns of price_earnings_ratio, price_bookvalue_ratio & revenue_mm**"
   ]
  },
  {
   "cell_type": "code",
   "execution_count": 144,
   "metadata": {},
   "outputs": [],
   "source": [
    "price_earnings_ratio = sp1500_df['price_earnings_ratio'].apply(lambda x: x.replace('-', ''))\n",
    "price_earnings_ratio = price_earnings_ratio.apply(lambda x: x.replace('NM',''))\n",
    "price_earnings_ratio = price_earnings_ratio.apply(lambda x:x[:-1])\n",
    "price_earnings_ratio = pd.to_numeric(price_earnings_ratio)\n",
    "\n",
    "price_bookvalue_ratio = sp1500_df['price_bookvalue_ratio'].apply(lambda x: x.replace('-', ''))\n",
    "price_bookvalue_ratio = price_bookvalue_ratio.apply(lambda x: x.replace('NM',''))\n",
    "price_bookvalue_ratio = price_bookvalue_ratio.apply(lambda x:x[:-1])\n",
    "price_bookvalue_ratio = pd.to_numeric(price_bookvalue_ratio)\n",
    "\n",
    "revenue_mm  = sp1500_df['revenue_mm'].apply(lambda x: str(x).replace('-', ''))\n",
    "revenue_mm = pd.to_numeric(revenue_mm)"
   ]
  },
  {
   "cell_type": "code",
   "execution_count": 145,
   "metadata": {},
   "outputs": [],
   "source": [
    "sp1500_df['pct_price_change_lastday'] = pct_price_change_lastday\n",
    "sp1500_df['pct_pricechange_30day'] = pct_pricechange_30day\n",
    "sp1500_df['pct_price_change_ytd'] = pct_price_change_ytd\n",
    "sp1500_df['pct_price_change_12_month'] = pct_price_change_12_month\n",
    "sp1500_df['price_earnings_ratio'] = price_earnings_ratio\n",
    "sp1500_df['price_bookvalue_ratio'] = price_bookvalue_ratio\n",
    "sp1500_df['revenue_mm'] = revenue_mm"
   ]
  },
  {
   "cell_type": "code",
   "execution_count": 146,
   "metadata": {},
   "outputs": [
    {
     "data": {
      "text/html": [
       "<div>\n",
       "<style scoped>\n",
       "    .dataframe tbody tr th:only-of-type {\n",
       "        vertical-align: middle;\n",
       "    }\n",
       "\n",
       "    .dataframe tbody tr th {\n",
       "        vertical-align: top;\n",
       "    }\n",
       "\n",
       "    .dataframe thead th {\n",
       "        text-align: right;\n",
       "    }\n",
       "</style>\n",
       "<table border=\"1\" class=\"dataframe\">\n",
       "  <thead>\n",
       "    <tr style=\"text-align: right;\">\n",
       "      <th></th>\n",
       "      <th>company</th>\n",
       "      <th>ticker</th>\n",
       "      <th>price_close</th>\n",
       "      <th>pct_price_change_lastday</th>\n",
       "      <th>pct_pricechange_30day</th>\n",
       "      <th>pct_price_change_ytd</th>\n",
       "      <th>pct_price_change_12_month</th>\n",
       "      <th>price_earnings_ratio</th>\n",
       "      <th>price_bookvalue_ratio</th>\n",
       "      <th>marketcap_mm</th>\n",
       "      <th>revenue_mm</th>\n",
       "      <th>exchange</th>\n",
       "      <th>industry</th>\n",
       "    </tr>\n",
       "  </thead>\n",
       "  <tbody>\n",
       "    <tr>\n",
       "      <th>0</th>\n",
       "      <td>3D Systems Corporation</td>\n",
       "      <td>DDD</td>\n",
       "      <td>7.85</td>\n",
       "      <td>5.23</td>\n",
       "      <td>7.53</td>\n",
       "      <td>-10.29</td>\n",
       "      <td>-8.72</td>\n",
       "      <td>NaN</td>\n",
       "      <td>1.89</td>\n",
       "      <td>924.91</td>\n",
       "      <td>611.82</td>\n",
       "      <td>NYSE</td>\n",
       "      <td>Technology Hardware, Storage and Peripherals</td>\n",
       "    </tr>\n",
       "    <tr>\n",
       "      <th>1</th>\n",
       "      <td>3M Company</td>\n",
       "      <td>MMM</td>\n",
       "      <td>148.51</td>\n",
       "      <td>1.90</td>\n",
       "      <td>-0.32</td>\n",
       "      <td>-15.82</td>\n",
       "      <td>-16.84</td>\n",
       "      <td>17.10</td>\n",
       "      <td>8.42</td>\n",
       "      <td>85422.41</td>\n",
       "      <td>32348.00</td>\n",
       "      <td>NYSE</td>\n",
       "      <td>Industrial Conglomerates</td>\n",
       "    </tr>\n",
       "    <tr>\n",
       "      <th>2</th>\n",
       "      <td>8x8, Inc.</td>\n",
       "      <td>EGHT</td>\n",
       "      <td>18.97</td>\n",
       "      <td>0.42</td>\n",
       "      <td>19.31</td>\n",
       "      <td>3.66</td>\n",
       "      <td>-20.99</td>\n",
       "      <td>NaN</td>\n",
       "      <td>8.71</td>\n",
       "      <td>1943.63</td>\n",
       "      <td>418.53</td>\n",
       "      <td>NYSE</td>\n",
       "      <td>Application Software</td>\n",
       "    </tr>\n",
       "    <tr>\n",
       "      <th>3</th>\n",
       "      <td>A. O. Smith Corporation</td>\n",
       "      <td>AOS</td>\n",
       "      <td>44.79</td>\n",
       "      <td>3.42</td>\n",
       "      <td>11.36</td>\n",
       "      <td>-5.98</td>\n",
       "      <td>-10.95</td>\n",
       "      <td>21.51</td>\n",
       "      <td>4.47</td>\n",
       "      <td>7217.48</td>\n",
       "      <td>2881.40</td>\n",
       "      <td>NYSE</td>\n",
       "      <td>Building Products</td>\n",
       "    </tr>\n",
       "    <tr>\n",
       "      <th>4</th>\n",
       "      <td>AAON, Inc.</td>\n",
       "      <td>AAON</td>\n",
       "      <td>48.94</td>\n",
       "      <td>0.74</td>\n",
       "      <td>-0.22</td>\n",
       "      <td>-0.95</td>\n",
       "      <td>3.36</td>\n",
       "      <td>47.63</td>\n",
       "      <td>8.31</td>\n",
       "      <td>2546.42</td>\n",
       "      <td>492.99</td>\n",
       "      <td>NasdaqGS</td>\n",
       "      <td>Building Products</td>\n",
       "    </tr>\n",
       "  </tbody>\n",
       "</table>\n",
       "</div>"
      ],
      "text/plain": [
       "                   company ticker  price_close  pct_price_change_lastday  \\\n",
       "0   3D Systems Corporation    DDD         7.85                      5.23   \n",
       "1               3M Company    MMM       148.51                      1.90   \n",
       "2                8x8, Inc.   EGHT        18.97                      0.42   \n",
       "3  A. O. Smith Corporation    AOS        44.79                      3.42   \n",
       "4               AAON, Inc.   AAON        48.94                      0.74   \n",
       "\n",
       "   pct_pricechange_30day  pct_price_change_ytd  pct_price_change_12_month  \\\n",
       "0                   7.53                -10.29                      -8.72   \n",
       "1                  -0.32                -15.82                     -16.84   \n",
       "2                  19.31                  3.66                     -20.99   \n",
       "3                  11.36                 -5.98                     -10.95   \n",
       "4                  -0.22                 -0.95                       3.36   \n",
       "\n",
       "   price_earnings_ratio  price_bookvalue_ratio  marketcap_mm  revenue_mm  \\\n",
       "0                   NaN                   1.89        924.91      611.82   \n",
       "1                 17.10                   8.42      85422.41    32348.00   \n",
       "2                   NaN                   8.71       1943.63      418.53   \n",
       "3                 21.51                   4.47       7217.48     2881.40   \n",
       "4                 47.63                   8.31       2546.42      492.99   \n",
       "\n",
       "   exchange                                      industry  \n",
       "0      NYSE  Technology Hardware, Storage and Peripherals  \n",
       "1      NYSE                      Industrial Conglomerates  \n",
       "2      NYSE                          Application Software  \n",
       "3      NYSE                             Building Products  \n",
       "4  NasdaqGS                             Building Products  "
      ]
     },
     "execution_count": 146,
     "metadata": {},
     "output_type": "execute_result"
    }
   ],
   "source": [
    "sp1500_df.head()"
   ]
  },
  {
   "cell_type": "code",
   "execution_count": 147,
   "metadata": {},
   "outputs": [
    {
     "data": {
      "text/html": [
       "<div>\n",
       "<style scoped>\n",
       "    .dataframe tbody tr th:only-of-type {\n",
       "        vertical-align: middle;\n",
       "    }\n",
       "\n",
       "    .dataframe tbody tr th {\n",
       "        vertical-align: top;\n",
       "    }\n",
       "\n",
       "    .dataframe thead th {\n",
       "        text-align: right;\n",
       "    }\n",
       "</style>\n",
       "<table border=\"1\" class=\"dataframe\">\n",
       "  <thead>\n",
       "    <tr style=\"text-align: right;\">\n",
       "      <th></th>\n",
       "      <th>company</th>\n",
       "      <th>ticker</th>\n",
       "      <th>price_close</th>\n",
       "      <th>pct_price_change_lastday</th>\n",
       "      <th>pct_pricechange_30day</th>\n",
       "      <th>pct_price_change_ytd</th>\n",
       "      <th>pct_price_change_12_month</th>\n",
       "      <th>price_earnings_ratio</th>\n",
       "      <th>price_bookvalue_ratio</th>\n",
       "      <th>marketcap_mm</th>\n",
       "      <th>revenue_mm</th>\n",
       "      <th>exchange</th>\n",
       "      <th>industry</th>\n",
       "    </tr>\n",
       "  </thead>\n",
       "  <tbody>\n",
       "    <tr>\n",
       "      <th>1501</th>\n",
       "      <td>Zebra Technologies Corporation</td>\n",
       "      <td>ZBRA</td>\n",
       "      <td>242.92</td>\n",
       "      <td>3.87</td>\n",
       "      <td>23.53</td>\n",
       "      <td>-4.90</td>\n",
       "      <td>21.43</td>\n",
       "      <td>24.61</td>\n",
       "      <td>7.46</td>\n",
       "      <td>12897.00</td>\n",
       "      <td>4471.00</td>\n",
       "      <td>NasdaqGS</td>\n",
       "      <td>Electronic Equipment and Instruments</td>\n",
       "    </tr>\n",
       "    <tr>\n",
       "      <th>1502</th>\n",
       "      <td>Zimmer Biomet Holdings, Inc.</td>\n",
       "      <td>ZBH</td>\n",
       "      <td>121.86</td>\n",
       "      <td>2.06</td>\n",
       "      <td>9.51</td>\n",
       "      <td>-18.59</td>\n",
       "      <td>-0.57</td>\n",
       "      <td>21.83</td>\n",
       "      <td>2.03</td>\n",
       "      <td>25186.22</td>\n",
       "      <td>7982.20</td>\n",
       "      <td>NYSE</td>\n",
       "      <td>Health Care Equipment</td>\n",
       "    </tr>\n",
       "    <tr>\n",
       "      <th>1503</th>\n",
       "      <td>Zions Bancorporation, National Association</td>\n",
       "      <td>ZION</td>\n",
       "      <td>30.72</td>\n",
       "      <td>3.89</td>\n",
       "      <td>4.35</td>\n",
       "      <td>-40.83</td>\n",
       "      <td>-36.25</td>\n",
       "      <td>9.23</td>\n",
       "      <td>0.73</td>\n",
       "      <td>5033.84</td>\n",
       "      <td>2533.00</td>\n",
       "      <td>NasdaqGS</td>\n",
       "      <td>Regional Banks</td>\n",
       "    </tr>\n",
       "    <tr>\n",
       "      <th>1504</th>\n",
       "      <td>Zoetis Inc.</td>\n",
       "      <td>ZTS</td>\n",
       "      <td>125.47</td>\n",
       "      <td>0.99</td>\n",
       "      <td>-1.40</td>\n",
       "      <td>-5.20</td>\n",
       "      <td>23.18</td>\n",
       "      <td>37.19</td>\n",
       "      <td>21.64</td>\n",
       "      <td>59590.82</td>\n",
       "      <td>6339.00</td>\n",
       "      <td>NYSE</td>\n",
       "      <td>Pharmaceuticals</td>\n",
       "    </tr>\n",
       "    <tr>\n",
       "      <th>1505</th>\n",
       "      <td>Zumiez Inc.</td>\n",
       "      <td>ZUMZ</td>\n",
       "      <td>20.37</td>\n",
       "      <td>6.04</td>\n",
       "      <td>-2.30</td>\n",
       "      <td>-41.02</td>\n",
       "      <td>-21.50</td>\n",
       "      <td>7.33</td>\n",
       "      <td>1.13</td>\n",
       "      <td>517.60</td>\n",
       "      <td>1034.13</td>\n",
       "      <td>NasdaqGS</td>\n",
       "      <td>Apparel Retail</td>\n",
       "    </tr>\n",
       "  </tbody>\n",
       "</table>\n",
       "</div>"
      ],
      "text/plain": [
       "                                         company ticker  price_close  \\\n",
       "1501              Zebra Technologies Corporation   ZBRA       242.92   \n",
       "1502                Zimmer Biomet Holdings, Inc.    ZBH       121.86   \n",
       "1503  Zions Bancorporation, National Association   ZION        30.72   \n",
       "1504                                 Zoetis Inc.    ZTS       125.47   \n",
       "1505                                 Zumiez Inc.   ZUMZ        20.37   \n",
       "\n",
       "      pct_price_change_lastday  pct_pricechange_30day  pct_price_change_ytd  \\\n",
       "1501                      3.87                  23.53                 -4.90   \n",
       "1502                      2.06                   9.51                -18.59   \n",
       "1503                      3.89                   4.35                -40.83   \n",
       "1504                      0.99                  -1.40                 -5.20   \n",
       "1505                      6.04                  -2.30                -41.02   \n",
       "\n",
       "      pct_price_change_12_month  price_earnings_ratio  price_bookvalue_ratio  \\\n",
       "1501                      21.43                 24.61                   7.46   \n",
       "1502                      -0.57                 21.83                   2.03   \n",
       "1503                     -36.25                  9.23                   0.73   \n",
       "1504                      23.18                 37.19                  21.64   \n",
       "1505                     -21.50                  7.33                   1.13   \n",
       "\n",
       "      marketcap_mm  revenue_mm  exchange                              industry  \n",
       "1501      12897.00     4471.00  NasdaqGS  Electronic Equipment and Instruments  \n",
       "1502      25186.22     7982.20      NYSE                 Health Care Equipment  \n",
       "1503       5033.84     2533.00  NasdaqGS                        Regional Banks  \n",
       "1504      59590.82     6339.00      NYSE                       Pharmaceuticals  \n",
       "1505        517.60     1034.13  NasdaqGS                        Apparel Retail  "
      ]
     },
     "execution_count": 147,
     "metadata": {},
     "output_type": "execute_result"
    }
   ],
   "source": [
    "sp1500_df.tail()"
   ]
  },
  {
   "cell_type": "markdown",
   "metadata": {},
   "source": [
    "**After changing all the values to numeric drop any NAs from the data frame**"
   ]
  },
  {
   "cell_type": "code",
   "execution_count": 148,
   "metadata": {},
   "outputs": [
    {
     "data": {
      "text/plain": [
       "(1190, 13)"
      ]
     },
     "execution_count": 148,
     "metadata": {},
     "output_type": "execute_result"
    }
   ],
   "source": [
    "sp1500_clean_df = sp1500_df.dropna()\n",
    "sp1500_clean_df.shape"
   ]
  },
  {
   "cell_type": "code",
   "execution_count": 149,
   "metadata": {},
   "outputs": [
    {
     "data": {
      "text/html": [
       "<div>\n",
       "<style scoped>\n",
       "    .dataframe tbody tr th:only-of-type {\n",
       "        vertical-align: middle;\n",
       "    }\n",
       "\n",
       "    .dataframe tbody tr th {\n",
       "        vertical-align: top;\n",
       "    }\n",
       "\n",
       "    .dataframe thead th {\n",
       "        text-align: right;\n",
       "    }\n",
       "</style>\n",
       "<table border=\"1\" class=\"dataframe\">\n",
       "  <thead>\n",
       "    <tr style=\"text-align: right;\">\n",
       "      <th></th>\n",
       "      <th>company</th>\n",
       "      <th>ticker</th>\n",
       "      <th>price_close</th>\n",
       "      <th>pct_price_change_lastday</th>\n",
       "      <th>pct_pricechange_30day</th>\n",
       "      <th>pct_price_change_ytd</th>\n",
       "      <th>pct_price_change_12_month</th>\n",
       "      <th>price_earnings_ratio</th>\n",
       "      <th>price_bookvalue_ratio</th>\n",
       "      <th>marketcap_mm</th>\n",
       "      <th>revenue_mm</th>\n",
       "      <th>exchange</th>\n",
       "      <th>industry</th>\n",
       "    </tr>\n",
       "  </thead>\n",
       "  <tbody>\n",
       "    <tr>\n",
       "      <th>1</th>\n",
       "      <td>3M Company</td>\n",
       "      <td>MMM</td>\n",
       "      <td>148.51</td>\n",
       "      <td>1.90</td>\n",
       "      <td>-0.32</td>\n",
       "      <td>-15.82</td>\n",
       "      <td>-16.84</td>\n",
       "      <td>17.10</td>\n",
       "      <td>8.42</td>\n",
       "      <td>85422.41</td>\n",
       "      <td>32348.00</td>\n",
       "      <td>NYSE</td>\n",
       "      <td>Industrial Conglomerates</td>\n",
       "    </tr>\n",
       "    <tr>\n",
       "      <th>3</th>\n",
       "      <td>A. O. Smith Corporation</td>\n",
       "      <td>AOS</td>\n",
       "      <td>44.79</td>\n",
       "      <td>3.42</td>\n",
       "      <td>11.36</td>\n",
       "      <td>-5.98</td>\n",
       "      <td>-10.95</td>\n",
       "      <td>21.51</td>\n",
       "      <td>4.47</td>\n",
       "      <td>7217.48</td>\n",
       "      <td>2881.40</td>\n",
       "      <td>NYSE</td>\n",
       "      <td>Building Products</td>\n",
       "    </tr>\n",
       "    <tr>\n",
       "      <th>4</th>\n",
       "      <td>AAON, Inc.</td>\n",
       "      <td>AAON</td>\n",
       "      <td>48.94</td>\n",
       "      <td>0.74</td>\n",
       "      <td>-0.22</td>\n",
       "      <td>-0.95</td>\n",
       "      <td>3.36</td>\n",
       "      <td>47.63</td>\n",
       "      <td>8.31</td>\n",
       "      <td>2546.42</td>\n",
       "      <td>492.99</td>\n",
       "      <td>NasdaqGS</td>\n",
       "      <td>Building Products</td>\n",
       "    </tr>\n",
       "    <tr>\n",
       "      <th>5</th>\n",
       "      <td>AAR Corp.</td>\n",
       "      <td>AIR</td>\n",
       "      <td>18.20</td>\n",
       "      <td>9.05</td>\n",
       "      <td>-1.57</td>\n",
       "      <td>-59.65</td>\n",
       "      <td>-45.93</td>\n",
       "      <td>8.79</td>\n",
       "      <td>0.68</td>\n",
       "      <td>629.15</td>\n",
       "      <td>2218.20</td>\n",
       "      <td>NYSE</td>\n",
       "      <td>Aerospace and Defense</td>\n",
       "    </tr>\n",
       "    <tr>\n",
       "      <th>6</th>\n",
       "      <td>Aaron's, Inc.</td>\n",
       "      <td>AAN</td>\n",
       "      <td>35.78</td>\n",
       "      <td>7.29</td>\n",
       "      <td>51.16</td>\n",
       "      <td>-37.35</td>\n",
       "      <td>-37.85</td>\n",
       "      <td>72.50</td>\n",
       "      <td>1.66</td>\n",
       "      <td>2417.71</td>\n",
       "      <td>4036.83</td>\n",
       "      <td>NYSE</td>\n",
       "      <td>Homefurnishing Retail</td>\n",
       "    </tr>\n",
       "  </tbody>\n",
       "</table>\n",
       "</div>"
      ],
      "text/plain": [
       "                   company ticker  price_close  pct_price_change_lastday  \\\n",
       "1               3M Company    MMM       148.51                      1.90   \n",
       "3  A. O. Smith Corporation    AOS        44.79                      3.42   \n",
       "4               AAON, Inc.   AAON        48.94                      0.74   \n",
       "5                AAR Corp.    AIR        18.20                      9.05   \n",
       "6            Aaron's, Inc.    AAN        35.78                      7.29   \n",
       "\n",
       "   pct_pricechange_30day  pct_price_change_ytd  pct_price_change_12_month  \\\n",
       "1                  -0.32                -15.82                     -16.84   \n",
       "3                  11.36                 -5.98                     -10.95   \n",
       "4                  -0.22                 -0.95                       3.36   \n",
       "5                  -1.57                -59.65                     -45.93   \n",
       "6                  51.16                -37.35                     -37.85   \n",
       "\n",
       "   price_earnings_ratio  price_bookvalue_ratio  marketcap_mm  revenue_mm  \\\n",
       "1                 17.10                   8.42      85422.41    32348.00   \n",
       "3                 21.51                   4.47       7217.48     2881.40   \n",
       "4                 47.63                   8.31       2546.42      492.99   \n",
       "5                  8.79                   0.68        629.15     2218.20   \n",
       "6                 72.50                   1.66       2417.71     4036.83   \n",
       "\n",
       "   exchange                  industry  \n",
       "1      NYSE  Industrial Conglomerates  \n",
       "3      NYSE         Building Products  \n",
       "4  NasdaqGS         Building Products  \n",
       "5      NYSE     Aerospace and Defense  \n",
       "6      NYSE     Homefurnishing Retail  "
      ]
     },
     "execution_count": 149,
     "metadata": {},
     "output_type": "execute_result"
    }
   ],
   "source": [
    "sp1500_clean_df.head()"
   ]
  },
  {
   "cell_type": "code",
   "execution_count": 150,
   "metadata": {},
   "outputs": [
    {
     "data": {
      "text/html": [
       "<div>\n",
       "<style scoped>\n",
       "    .dataframe tbody tr th:only-of-type {\n",
       "        vertical-align: middle;\n",
       "    }\n",
       "\n",
       "    .dataframe tbody tr th {\n",
       "        vertical-align: top;\n",
       "    }\n",
       "\n",
       "    .dataframe thead th {\n",
       "        text-align: right;\n",
       "    }\n",
       "</style>\n",
       "<table border=\"1\" class=\"dataframe\">\n",
       "  <thead>\n",
       "    <tr style=\"text-align: right;\">\n",
       "      <th></th>\n",
       "      <th>company</th>\n",
       "      <th>ticker</th>\n",
       "      <th>price_close</th>\n",
       "      <th>pct_price_change_lastday</th>\n",
       "      <th>pct_pricechange_30day</th>\n",
       "      <th>pct_price_change_ytd</th>\n",
       "      <th>pct_price_change_12_month</th>\n",
       "      <th>price_earnings_ratio</th>\n",
       "      <th>price_bookvalue_ratio</th>\n",
       "      <th>marketcap_mm</th>\n",
       "      <th>revenue_mm</th>\n",
       "      <th>exchange</th>\n",
       "      <th>industry</th>\n",
       "    </tr>\n",
       "  </thead>\n",
       "  <tbody>\n",
       "    <tr>\n",
       "      <th>1501</th>\n",
       "      <td>Zebra Technologies Corporation</td>\n",
       "      <td>ZBRA</td>\n",
       "      <td>242.92</td>\n",
       "      <td>3.87</td>\n",
       "      <td>23.53</td>\n",
       "      <td>-4.90</td>\n",
       "      <td>21.43</td>\n",
       "      <td>24.61</td>\n",
       "      <td>7.46</td>\n",
       "      <td>12897.00</td>\n",
       "      <td>4471.00</td>\n",
       "      <td>NasdaqGS</td>\n",
       "      <td>Electronic Equipment and Instruments</td>\n",
       "    </tr>\n",
       "    <tr>\n",
       "      <th>1502</th>\n",
       "      <td>Zimmer Biomet Holdings, Inc.</td>\n",
       "      <td>ZBH</td>\n",
       "      <td>121.86</td>\n",
       "      <td>2.06</td>\n",
       "      <td>9.51</td>\n",
       "      <td>-18.59</td>\n",
       "      <td>-0.57</td>\n",
       "      <td>21.83</td>\n",
       "      <td>2.03</td>\n",
       "      <td>25186.22</td>\n",
       "      <td>7982.20</td>\n",
       "      <td>NYSE</td>\n",
       "      <td>Health Care Equipment</td>\n",
       "    </tr>\n",
       "    <tr>\n",
       "      <th>1503</th>\n",
       "      <td>Zions Bancorporation, National Association</td>\n",
       "      <td>ZION</td>\n",
       "      <td>30.72</td>\n",
       "      <td>3.89</td>\n",
       "      <td>4.35</td>\n",
       "      <td>-40.83</td>\n",
       "      <td>-36.25</td>\n",
       "      <td>9.23</td>\n",
       "      <td>0.73</td>\n",
       "      <td>5033.84</td>\n",
       "      <td>2533.00</td>\n",
       "      <td>NasdaqGS</td>\n",
       "      <td>Regional Banks</td>\n",
       "    </tr>\n",
       "    <tr>\n",
       "      <th>1504</th>\n",
       "      <td>Zoetis Inc.</td>\n",
       "      <td>ZTS</td>\n",
       "      <td>125.47</td>\n",
       "      <td>0.99</td>\n",
       "      <td>-1.40</td>\n",
       "      <td>-5.20</td>\n",
       "      <td>23.18</td>\n",
       "      <td>37.19</td>\n",
       "      <td>21.64</td>\n",
       "      <td>59590.82</td>\n",
       "      <td>6339.00</td>\n",
       "      <td>NYSE</td>\n",
       "      <td>Pharmaceuticals</td>\n",
       "    </tr>\n",
       "    <tr>\n",
       "      <th>1505</th>\n",
       "      <td>Zumiez Inc.</td>\n",
       "      <td>ZUMZ</td>\n",
       "      <td>20.37</td>\n",
       "      <td>6.04</td>\n",
       "      <td>-2.30</td>\n",
       "      <td>-41.02</td>\n",
       "      <td>-21.50</td>\n",
       "      <td>7.33</td>\n",
       "      <td>1.13</td>\n",
       "      <td>517.60</td>\n",
       "      <td>1034.13</td>\n",
       "      <td>NasdaqGS</td>\n",
       "      <td>Apparel Retail</td>\n",
       "    </tr>\n",
       "  </tbody>\n",
       "</table>\n",
       "</div>"
      ],
      "text/plain": [
       "                                         company ticker  price_close  \\\n",
       "1501              Zebra Technologies Corporation   ZBRA       242.92   \n",
       "1502                Zimmer Biomet Holdings, Inc.    ZBH       121.86   \n",
       "1503  Zions Bancorporation, National Association   ZION        30.72   \n",
       "1504                                 Zoetis Inc.    ZTS       125.47   \n",
       "1505                                 Zumiez Inc.   ZUMZ        20.37   \n",
       "\n",
       "      pct_price_change_lastday  pct_pricechange_30day  pct_price_change_ytd  \\\n",
       "1501                      3.87                  23.53                 -4.90   \n",
       "1502                      2.06                   9.51                -18.59   \n",
       "1503                      3.89                   4.35                -40.83   \n",
       "1504                      0.99                  -1.40                 -5.20   \n",
       "1505                      6.04                  -2.30                -41.02   \n",
       "\n",
       "      pct_price_change_12_month  price_earnings_ratio  price_bookvalue_ratio  \\\n",
       "1501                      21.43                 24.61                   7.46   \n",
       "1502                      -0.57                 21.83                   2.03   \n",
       "1503                     -36.25                  9.23                   0.73   \n",
       "1504                      23.18                 37.19                  21.64   \n",
       "1505                     -21.50                  7.33                   1.13   \n",
       "\n",
       "      marketcap_mm  revenue_mm  exchange                              industry  \n",
       "1501      12897.00     4471.00  NasdaqGS  Electronic Equipment and Instruments  \n",
       "1502      25186.22     7982.20      NYSE                 Health Care Equipment  \n",
       "1503       5033.84     2533.00  NasdaqGS                        Regional Banks  \n",
       "1504      59590.82     6339.00      NYSE                       Pharmaceuticals  \n",
       "1505        517.60     1034.13  NasdaqGS                        Apparel Retail  "
      ]
     },
     "execution_count": 150,
     "metadata": {},
     "output_type": "execute_result"
    }
   ],
   "source": [
    "sp1500_clean_df.tail()"
   ]
  },
  {
   "cell_type": "code",
   "execution_count": 151,
   "metadata": {},
   "outputs": [],
   "source": [
    "sp1500_clean_df.to_csv(\"C:/Users/z/Desktop/FIN580 PYTHON/sp1500.csv\", index = False)"
   ]
  },
  {
   "cell_type": "markdown",
   "metadata": {},
   "source": [
    "<a id='1.3'></a>\n",
    "## 1.3 Determine how many constituents and industries are part of the S&P 1500. Before dropping NAs and after dropping NAs."
   ]
  },
  {
   "cell_type": "markdown",
   "metadata": {},
   "source": [
    "**Number of constituents and industries in S&P 1500 - BEFORE & AFTER dropping NAs**"
   ]
  },
  {
   "cell_type": "code",
   "execution_count": 152,
   "metadata": {},
   "outputs": [
    {
     "data": {
      "text/plain": [
       "1500"
      ]
     },
     "execution_count": 152,
     "metadata": {},
     "output_type": "execute_result"
    }
   ],
   "source": [
    "## Number of constitutents before dropping NAs\n",
    "len(np.unique(sp1500_df['company']))"
   ]
  },
  {
   "cell_type": "code",
   "execution_count": 153,
   "metadata": {},
   "outputs": [
    {
     "data": {
      "text/plain": [
       "148"
      ]
     },
     "execution_count": 153,
     "metadata": {},
     "output_type": "execute_result"
    }
   ],
   "source": [
    "## Number of industries before dropping NAs\n",
    "len(np.unique(sp1500_df['industry']))"
   ]
  },
  {
   "cell_type": "code",
   "execution_count": 154,
   "metadata": {},
   "outputs": [
    {
     "data": {
      "text/plain": [
       "1185"
      ]
     },
     "execution_count": 154,
     "metadata": {},
     "output_type": "execute_result"
    }
   ],
   "source": [
    "## Number of constitutents after dropping NAs\n",
    "len(np.unique(sp1500_clean_df['company']))"
   ]
  },
  {
   "cell_type": "code",
   "execution_count": 155,
   "metadata": {},
   "outputs": [
    {
     "data": {
      "text/plain": [
       "142"
      ]
     },
     "execution_count": 155,
     "metadata": {},
     "output_type": "execute_result"
    }
   ],
   "source": [
    "## Number of industries after dropping NAs\n",
    "len(np.unique(sp1500_clean_df['industry']))"
   ]
  },
  {
   "cell_type": "code",
   "execution_count": 156,
   "metadata": {},
   "outputs": [
    {
     "data": {
      "text/plain": [
       "Regional Banks                             82\n",
       "Industrial Machinery                       36\n",
       "Health Care Equipment                      34\n",
       "Packaged Foods and Meats                   23\n",
       "Specialty Chemicals                        22\n",
       "Electric Utilities                         21\n",
       "Data Processing and Outsourced Services    21\n",
       "Semiconductors                             20\n",
       "Property and Casualty Insurance            20\n",
       "Retail REITs                               20\n",
       "Application Software                       19\n",
       "Specialized REITs                          18\n",
       "Aerospace and Defense                      18\n",
       "Apparel Retail                             17\n",
       "Homebuilding                               16\n",
       "Building Products                          16\n",
       "Asset Management and Custody Banks         16\n",
       "Biotechnology                              15\n",
       "Semiconductor Equipment                    15\n",
       "Pharmaceuticals                            14\n",
       "Electrical Components and Equipment        14\n",
       "Multi-Utilities                            14\n",
       "Consumer Finance                           14\n",
       "Oil and Gas Exploration and Production     14\n",
       "Construction Machinery and Heavy Trucks    13\n",
       "Life Sciences Tools and Services           13\n",
       "Office REITs                               13\n",
       "Restaurants                                13\n",
       "Health Care Services                       13\n",
       "Auto Parts and Equipment                   13\n",
       "Apparel, Accessories and Luxury Goods      13\n",
       "Thrifts and Mortgage Finance               12\n",
       "Communications Equipment                   12\n",
       "IT Consulting and Other Services           12\n",
       "Steel                                      11\n",
       "Life and Health Insurance                  11\n",
       "Electronic Equipment and Instruments       11\n",
       "Trading Companies and Distributors         11\n",
       "Electronic Manufacturing Services          11\n",
       "Residential REITs                          11\n",
       "Health Care REITs                          11\n",
       "Investment Banking and Brokerage           11\n",
       "Name: industry, dtype: int64"
      ]
     },
     "execution_count": 156,
     "metadata": {},
     "output_type": "execute_result"
    }
   ],
   "source": [
    "##check the number of appearances for S&P 1500 industries who appears more than 10 times after dropping NAs\n",
    "pd.value_counts(sp1500_clean_df['industry'])[(pd.value_counts(sp1500_clean_df['industry'])>10)]"
   ]
  },
  {
   "cell_type": "code",
   "execution_count": 157,
   "metadata": {},
   "outputs": [
    {
     "data": {
      "text/plain": [
       "Regional Banks                             88\n",
       "Health Care Equipment                      42\n",
       "Industrial Machinery                       41\n",
       "Oil and Gas Exploration and Production     32\n",
       "Semiconductors                             28\n",
       "Application Software                       28\n",
       "Retail REITs                               26\n",
       "Property and Casualty Insurance            26\n",
       "Packaged Foods and Meats                   26\n",
       "Biotechnology                              25\n",
       "Specialty Chemicals                        25\n",
       "Restaurants                                25\n",
       "Oil and Gas Equipment and Services         23\n",
       "Data Processing and Outsourced Services    23\n",
       "Specialized REITs                          22\n",
       "Aerospace and Defense                      22\n",
       "Building Products                          22\n",
       "Pharmaceuticals                            22\n",
       "Apparel Retail                             21\n",
       "Semiconductor Equipment                    21\n",
       "Electric Utilities                         21\n",
       "Communications Equipment                   20\n",
       "Asset Management and Custody Banks         18\n",
       "Health Care Services                       17\n",
       "Auto Parts and Equipment                   17\n",
       "Apparel, Accessories and Luxury Goods      16\n",
       "Life Sciences Tools and Services           16\n",
       "Homebuilding                               16\n",
       "IT Consulting and Other Services           15\n",
       "Consumer Finance                           14\n",
       "Office REITs                               14\n",
       "Multi-Utilities                            14\n",
       "Electrical Components and Equipment        14\n",
       "Steel                                      14\n",
       "Electronic Equipment and Instruments       14\n",
       "Trading Companies and Distributors         13\n",
       "Construction Machinery and Heavy Trucks    13\n",
       "Construction and Engineering               13\n",
       "Specialty Stores                           12\n",
       "Health Care Supplies                       12\n",
       "Health Care REITs                          12\n",
       "Thrifts and Mortgage Finance               12\n",
       "Automotive Retail                          12\n",
       "Life and Health Insurance                  12\n",
       "Investment Banking and Brokerage           11\n",
       "Residential REITs                          11\n",
       "Systems Software                           11\n",
       "Trucking                                   11\n",
       "Electronic Manufacturing Services          11\n",
       "Health Care Facilities                     11\n",
       "Name: industry, dtype: int64"
      ]
     },
     "execution_count": 157,
     "metadata": {},
     "output_type": "execute_result"
    }
   ],
   "source": [
    "##check the number of appearances for S&P 1500 industries who appears more than 10 times before dropping NAs\n",
    "pd.value_counts(sp1500_df['industry'])[(pd.value_counts(sp1500_df['industry'])>10)]"
   ]
  },
  {
   "cell_type": "markdown",
   "metadata": {},
   "source": [
    "### As you can see from the outcomes above, there are 1500 constituents and 148 industries in S&P 1500 before dropping NAs. There are 1185 constituents and 142 industries in S&P 1500 after dropping NAs."
   ]
  },
  {
   "cell_type": "markdown",
   "metadata": {},
   "source": [
    "<a id='1.4'></a>\n",
    "## 1.4 Determine the top 5 worst & best performing industries based on pct_price_change_ytd "
   ]
  },
  {
   "cell_type": "code",
   "execution_count": 158,
   "metadata": {},
   "outputs": [],
   "source": [
    "## rank the industries based on the value of pct_price_change_ytd\n",
    "sp_1500_rank_besttoworst = sp1500_clean_df.groupby('industry')[\"pct_price_change_ytd\"].mean().reset_index().sort_values('pct_price_change_ytd',ascending = False)\n",
    "sp_1500_rank_worsttobest = sp1500_clean_df.groupby('industry')[\"pct_price_change_ytd\"].mean().reset_index().sort_values('pct_price_change_ytd',ascending = True)"
   ]
  },
  {
   "cell_type": "code",
   "execution_count": 159,
   "metadata": {},
   "outputs": [
    {
     "data": {
      "text/html": [
       "<div>\n",
       "<style scoped>\n",
       "    .dataframe tbody tr th:only-of-type {\n",
       "        vertical-align: middle;\n",
       "    }\n",
       "\n",
       "    .dataframe tbody tr th {\n",
       "        vertical-align: top;\n",
       "    }\n",
       "\n",
       "    .dataframe thead th {\n",
       "        text-align: right;\n",
       "    }\n",
       "</style>\n",
       "<table border=\"1\" class=\"dataframe\">\n",
       "  <thead>\n",
       "    <tr style=\"text-align: right;\">\n",
       "      <th></th>\n",
       "      <th>industry</th>\n",
       "      <th>pct_price_change_ytd</th>\n",
       "    </tr>\n",
       "  </thead>\n",
       "  <tbody>\n",
       "    <tr>\n",
       "      <th>88</th>\n",
       "      <td>Internet and Direct Marketing Retail</td>\n",
       "      <td>31.075</td>\n",
       "    </tr>\n",
       "    <tr>\n",
       "      <th>57</th>\n",
       "      <td>Gold</td>\n",
       "      <td>30.080</td>\n",
       "    </tr>\n",
       "    <tr>\n",
       "      <th>16</th>\n",
       "      <td>Brewers</td>\n",
       "      <td>27.620</td>\n",
       "    </tr>\n",
       "    <tr>\n",
       "      <th>85</th>\n",
       "      <td>Interactive Home Entertainment</td>\n",
       "      <td>26.760</td>\n",
       "    </tr>\n",
       "    <tr>\n",
       "      <th>87</th>\n",
       "      <td>Internet Services and Infrastructure</td>\n",
       "      <td>17.100</td>\n",
       "    </tr>\n",
       "  </tbody>\n",
       "</table>\n",
       "</div>"
      ],
      "text/plain": [
       "                                industry  pct_price_change_ytd\n",
       "88  Internet and Direct Marketing Retail                31.075\n",
       "57                                  Gold                30.080\n",
       "16                               Brewers                27.620\n",
       "85        Interactive Home Entertainment                26.760\n",
       "87  Internet Services and Infrastructure                17.100"
      ]
     },
     "execution_count": 159,
     "metadata": {},
     "output_type": "execute_result"
    }
   ],
   "source": [
    "## top 5 best performing industries based on the descending order of pct_price_change_ytd\n",
    "sp_1500_rank_besttoworst.head(5)"
   ]
  },
  {
   "cell_type": "code",
   "execution_count": 160,
   "metadata": {},
   "outputs": [
    {
     "data": {
      "text/html": [
       "<div>\n",
       "<style scoped>\n",
       "    .dataframe tbody tr th:only-of-type {\n",
       "        vertical-align: middle;\n",
       "    }\n",
       "\n",
       "    .dataframe tbody tr th {\n",
       "        vertical-align: top;\n",
       "    }\n",
       "\n",
       "    .dataframe thead th {\n",
       "        text-align: right;\n",
       "    }\n",
       "</style>\n",
       "<table border=\"1\" class=\"dataframe\">\n",
       "  <thead>\n",
       "    <tr style=\"text-align: right;\">\n",
       "      <th></th>\n",
       "      <th>industry</th>\n",
       "      <th>pct_price_change_ytd</th>\n",
       "    </tr>\n",
       "  </thead>\n",
       "  <tbody>\n",
       "    <tr>\n",
       "      <th>32</th>\n",
       "      <td>Department Stores</td>\n",
       "      <td>-62.545000</td>\n",
       "    </tr>\n",
       "    <tr>\n",
       "      <th>96</th>\n",
       "      <td>Mortgage REITs</td>\n",
       "      <td>-60.970000</td>\n",
       "    </tr>\n",
       "    <tr>\n",
       "      <th>70</th>\n",
       "      <td>Hotel and Resort REITs</td>\n",
       "      <td>-57.508750</td>\n",
       "    </tr>\n",
       "    <tr>\n",
       "      <th>5</th>\n",
       "      <td>Airlines</td>\n",
       "      <td>-57.010000</td>\n",
       "    </tr>\n",
       "    <tr>\n",
       "      <th>104</th>\n",
       "      <td>Oil and Gas Equipment and Services</td>\n",
       "      <td>-55.003333</td>\n",
       "    </tr>\n",
       "  </tbody>\n",
       "</table>\n",
       "</div>"
      ],
      "text/plain": [
       "                               industry  pct_price_change_ytd\n",
       "32                    Department Stores            -62.545000\n",
       "96                       Mortgage REITs            -60.970000\n",
       "70               Hotel and Resort REITs            -57.508750\n",
       "5                              Airlines            -57.010000\n",
       "104  Oil and Gas Equipment and Services            -55.003333"
      ]
     },
     "execution_count": 160,
     "metadata": {},
     "output_type": "execute_result"
    }
   ],
   "source": [
    "## top 5 worst performing industries based on the ascending order of pct_price_change_ytd\n",
    "sp_1500_rank_worsttobest.head(5)"
   ]
  },
  {
   "cell_type": "code",
   "execution_count": 161,
   "metadata": {},
   "outputs": [
    {
     "data": {
      "text/plain": [
       "['Internet and Direct Marketing Retail',\n",
       " 'Gold',\n",
       " 'Brewers',\n",
       " 'Interactive Home Entertainment',\n",
       " 'Internet Services and Infrastructure']"
      ]
     },
     "execution_count": 161,
     "metadata": {},
     "output_type": "execute_result"
    }
   ],
   "source": [
    "## the names of the top 5 best performing industries in S&P 1500 in a list\n",
    "sp_1500_best5 = sp_1500_rank_besttoworst[\"industry\"][:5].tolist()\n",
    "sp_1500_best5"
   ]
  },
  {
   "cell_type": "code",
   "execution_count": 162,
   "metadata": {},
   "outputs": [
    {
     "data": {
      "text/plain": [
       "['Department Stores',\n",
       " 'Mortgage REITs',\n",
       " 'Hotel and Resort REITs',\n",
       " 'Airlines',\n",
       " 'Oil and Gas Equipment and Services']"
      ]
     },
     "execution_count": 162,
     "metadata": {},
     "output_type": "execute_result"
    }
   ],
   "source": [
    "## the names of the top 5 worst performing industries in S&P 1500 in a list\n",
    "sp_1500_worst5 = sp_1500_rank_worsttobest[\"industry\"][:5].tolist()\n",
    "sp_1500_worst5"
   ]
  },
  {
   "cell_type": "markdown",
   "metadata": {},
   "source": [
    "<a id='1.5'></a>\n",
    "## 1.5 Create a new data frame for the worst industry and a new data frame for the best industry both based on % Price Change [YTD]. For each of these new data frames, use the % Price Change [30 Day] to plot the top five ranking for worst and best performance constituents."
   ]
  },
  {
   "cell_type": "markdown",
   "metadata": {},
   "source": [
    "**Since we use % Price Change [YTD] to measure industry performance in 1.4, we can use the outcome of 1.4 to construct the new data frames for the best and the worst industry**"
   ]
  },
  {
   "cell_type": "markdown",
   "metadata": {},
   "source": [
    "*Create a new data frame for the worst industry(Department Stores) based on % Price Change(ascending order) [YTD]*"
   ]
  },
  {
   "cell_type": "code",
   "execution_count": 163,
   "metadata": {},
   "outputs": [
    {
     "data": {
      "text/html": [
       "<div>\n",
       "<style scoped>\n",
       "    .dataframe tbody tr th:only-of-type {\n",
       "        vertical-align: middle;\n",
       "    }\n",
       "\n",
       "    .dataframe tbody tr th {\n",
       "        vertical-align: top;\n",
       "    }\n",
       "\n",
       "    .dataframe thead th {\n",
       "        text-align: right;\n",
       "    }\n",
       "</style>\n",
       "<table border=\"1\" class=\"dataframe\">\n",
       "  <thead>\n",
       "    <tr style=\"text-align: right;\">\n",
       "      <th></th>\n",
       "      <th>company</th>\n",
       "      <th>pct_price_change_ytd</th>\n",
       "      <th>pct_pricechange_30day</th>\n",
       "    </tr>\n",
       "  </thead>\n",
       "  <tbody>\n",
       "    <tr>\n",
       "      <th>817</th>\n",
       "      <td>Macy's, Inc.</td>\n",
       "      <td>-68.41</td>\n",
       "      <td>-10.65</td>\n",
       "    </tr>\n",
       "    <tr>\n",
       "      <th>755</th>\n",
       "      <td>Kohl's Corporation</td>\n",
       "      <td>-64.28</td>\n",
       "      <td>3.88</td>\n",
       "    </tr>\n",
       "    <tr>\n",
       "      <th>390</th>\n",
       "      <td>Dillard's, Inc.</td>\n",
       "      <td>-61.54</td>\n",
       "      <td>-14.98</td>\n",
       "    </tr>\n",
       "    <tr>\n",
       "      <th>946</th>\n",
       "      <td>Nordstrom, Inc.</td>\n",
       "      <td>-55.95</td>\n",
       "      <td>-5.11</td>\n",
       "    </tr>\n",
       "  </tbody>\n",
       "</table>\n",
       "</div>"
      ],
      "text/plain": [
       "                company  pct_price_change_ytd  pct_pricechange_30day\n",
       "817        Macy's, Inc.                -68.41                 -10.65\n",
       "755  Kohl's Corporation                -64.28                   3.88\n",
       "390     Dillard's, Inc.                -61.54                 -14.98\n",
       "946     Nordstrom, Inc.                -55.95                  -5.11"
      ]
     },
     "execution_count": 163,
     "metadata": {},
     "output_type": "execute_result"
    }
   ],
   "source": [
    "df_worst = sp1500_clean_df.groupby('industry')[['company', 'pct_price_change_ytd','pct_pricechange_30day']].get_group(sp_1500_worst5[0])\n",
    "df_worst = df_worst.sort_values('pct_price_change_ytd',ascending=True)\n",
    "df_worst.head()"
   ]
  },
  {
   "cell_type": "markdown",
   "metadata": {},
   "source": [
    "*Create a new data frame for the best industry(Internet and Direct Marketing Retail) based on % Price Change(descending order) [YTD]*"
   ]
  },
  {
   "cell_type": "code",
   "execution_count": 164,
   "metadata": {},
   "outputs": [
    {
     "data": {
      "text/html": [
       "<div>\n",
       "<style scoped>\n",
       "    .dataframe tbody tr th:only-of-type {\n",
       "        vertical-align: middle;\n",
       "    }\n",
       "\n",
       "    .dataframe tbody tr th {\n",
       "        vertical-align: top;\n",
       "    }\n",
       "\n",
       "    .dataframe thead th {\n",
       "        text-align: right;\n",
       "    }\n",
       "</style>\n",
       "<table border=\"1\" class=\"dataframe\">\n",
       "  <thead>\n",
       "    <tr style=\"text-align: right;\">\n",
       "      <th></th>\n",
       "      <th>company</th>\n",
       "      <th>pct_price_change_ytd</th>\n",
       "      <th>pct_pricechange_30day</th>\n",
       "    </tr>\n",
       "  </thead>\n",
       "  <tbody>\n",
       "    <tr>\n",
       "      <th>1211</th>\n",
       "      <td>Stamps.com Inc.</td>\n",
       "      <td>142.90</td>\n",
       "      <td>48.07</td>\n",
       "    </tr>\n",
       "    <tr>\n",
       "      <th>475</th>\n",
       "      <td>Etsy, Inc.</td>\n",
       "      <td>82.19</td>\n",
       "      <td>58.25</td>\n",
       "    </tr>\n",
       "    <tr>\n",
       "      <th>1033</th>\n",
       "      <td>PetMed Express, Inc.</td>\n",
       "      <td>57.40</td>\n",
       "      <td>26.00</td>\n",
       "    </tr>\n",
       "    <tr>\n",
       "      <th>63</th>\n",
       "      <td>Amazon.com, Inc.</td>\n",
       "      <td>28.78</td>\n",
       "      <td>16.48</td>\n",
       "    </tr>\n",
       "    <tr>\n",
       "      <th>432</th>\n",
       "      <td>eBay Inc.</td>\n",
       "      <td>16.73</td>\n",
       "      <td>27.69</td>\n",
       "    </tr>\n",
       "  </tbody>\n",
       "</table>\n",
       "</div>"
      ],
      "text/plain": [
       "                   company  pct_price_change_ytd  pct_pricechange_30day\n",
       "1211       Stamps.com Inc.                142.90                  48.07\n",
       "475             Etsy, Inc.                 82.19                  58.25\n",
       "1033  PetMed Express, Inc.                 57.40                  26.00\n",
       "63        Amazon.com, Inc.                 28.78                  16.48\n",
       "432              eBay Inc.                 16.73                  27.69"
      ]
     },
     "execution_count": 164,
     "metadata": {},
     "output_type": "execute_result"
    }
   ],
   "source": [
    "df_best = sp1500_clean_df.groupby('industry')[['company', 'pct_price_change_ytd','pct_pricechange_30day']].get_group(sp_1500_best5[0])\n",
    "df_best = df_best.sort_values('pct_price_change_ytd',ascending=False)\n",
    "df_best.head()"
   ]
  },
  {
   "cell_type": "markdown",
   "metadata": {},
   "source": [
    "**Use the  % Price Change [30 Day] to plot the top five ranking for worst and best performance constituents for the worst industry.**\n",
    "*Reminder: there are only 4 companies coming from this industry*"
   ]
  },
  {
   "cell_type": "code",
   "execution_count": 165,
   "metadata": {},
   "outputs": [
    {
     "data": {
      "text/html": [
       "<div>\n",
       "<style scoped>\n",
       "    .dataframe tbody tr th:only-of-type {\n",
       "        vertical-align: middle;\n",
       "    }\n",
       "\n",
       "    .dataframe tbody tr th {\n",
       "        vertical-align: top;\n",
       "    }\n",
       "\n",
       "    .dataframe thead th {\n",
       "        text-align: right;\n",
       "    }\n",
       "</style>\n",
       "<table border=\"1\" class=\"dataframe\">\n",
       "  <thead>\n",
       "    <tr style=\"text-align: right;\">\n",
       "      <th></th>\n",
       "      <th>company</th>\n",
       "      <th>pct_pricechange_30day</th>\n",
       "    </tr>\n",
       "  </thead>\n",
       "  <tbody>\n",
       "    <tr>\n",
       "      <th>755</th>\n",
       "      <td>Kohl's Corporation</td>\n",
       "      <td>3.88</td>\n",
       "    </tr>\n",
       "    <tr>\n",
       "      <th>946</th>\n",
       "      <td>Nordstrom, Inc.</td>\n",
       "      <td>-5.11</td>\n",
       "    </tr>\n",
       "    <tr>\n",
       "      <th>817</th>\n",
       "      <td>Macy's, Inc.</td>\n",
       "      <td>-10.65</td>\n",
       "    </tr>\n",
       "    <tr>\n",
       "      <th>390</th>\n",
       "      <td>Dillard's, Inc.</td>\n",
       "      <td>-14.98</td>\n",
       "    </tr>\n",
       "  </tbody>\n",
       "</table>\n",
       "</div>"
      ],
      "text/plain": [
       "                company  pct_pricechange_30day\n",
       "755  Kohl's Corporation                   3.88\n",
       "946     Nordstrom, Inc.                  -5.11\n",
       "817        Macy's, Inc.                 -10.65\n",
       "390     Dillard's, Inc.                 -14.98"
      ]
     },
     "execution_count": 165,
     "metadata": {},
     "output_type": "execute_result"
    }
   ],
   "source": [
    "df_worst_best5 = df_worst.sort_values('pct_pricechange_30day',ascending=False)[['company','pct_pricechange_30day']]\n",
    "df_worst_best5"
   ]
  },
  {
   "cell_type": "code",
   "execution_count": 166,
   "metadata": {},
   "outputs": [
    {
     "data": {
      "text/html": [
       "<div>\n",
       "<style scoped>\n",
       "    .dataframe tbody tr th:only-of-type {\n",
       "        vertical-align: middle;\n",
       "    }\n",
       "\n",
       "    .dataframe tbody tr th {\n",
       "        vertical-align: top;\n",
       "    }\n",
       "\n",
       "    .dataframe thead th {\n",
       "        text-align: right;\n",
       "    }\n",
       "</style>\n",
       "<table border=\"1\" class=\"dataframe\">\n",
       "  <thead>\n",
       "    <tr style=\"text-align: right;\">\n",
       "      <th></th>\n",
       "      <th>company</th>\n",
       "      <th>pct_pricechange_30day</th>\n",
       "    </tr>\n",
       "  </thead>\n",
       "  <tbody>\n",
       "    <tr>\n",
       "      <th>390</th>\n",
       "      <td>Dillard's, Inc.</td>\n",
       "      <td>-14.98</td>\n",
       "    </tr>\n",
       "    <tr>\n",
       "      <th>817</th>\n",
       "      <td>Macy's, Inc.</td>\n",
       "      <td>-10.65</td>\n",
       "    </tr>\n",
       "    <tr>\n",
       "      <th>946</th>\n",
       "      <td>Nordstrom, Inc.</td>\n",
       "      <td>-5.11</td>\n",
       "    </tr>\n",
       "    <tr>\n",
       "      <th>755</th>\n",
       "      <td>Kohl's Corporation</td>\n",
       "      <td>3.88</td>\n",
       "    </tr>\n",
       "  </tbody>\n",
       "</table>\n",
       "</div>"
      ],
      "text/plain": [
       "                company  pct_pricechange_30day\n",
       "390     Dillard's, Inc.                 -14.98\n",
       "817        Macy's, Inc.                 -10.65\n",
       "946     Nordstrom, Inc.                  -5.11\n",
       "755  Kohl's Corporation                   3.88"
      ]
     },
     "execution_count": 166,
     "metadata": {},
     "output_type": "execute_result"
    }
   ],
   "source": [
    "df_worst_worst5 = df_worst.sort_values('pct_pricechange_30day',ascending=True)[['company','pct_pricechange_30day']]\n",
    "df_worst_worst5"
   ]
  },
  {
   "cell_type": "code",
   "execution_count": 167,
   "metadata": {},
   "outputs": [
    {
     "data": {
      "image/png": "[encoded data removed]",
      "text/plain": [
       "<Figure size 1440x576 with 2 Axes>"
      ]
     },
     "metadata": {
      "needs_background": "light"
     },
     "output_type": "display_data"
    }
   ],
   "source": [
    "fig = plt.figure(figsize=(20,8))\n",
    "ax1 = fig.add_subplot(121,  ylabel='% Price Change [30 Days]')\n",
    "df_worst_best5['pct_pricechange_30day'].plot(kind='bar',ax=ax1)\n",
    "plt.xticks([0,1,2,3],df_worst_best5['company'].to_list(),rotation=45)\n",
    "plt.title('Top 5 Best performing constitutents for the worst Industry: Department Stores')\n",
    "\n",
    "ax2 = fig.add_subplot(122,  ylabel='% Price Change [30 Days]')\n",
    "df_worst_worst5['pct_pricechange_30day'].plot(kind='bar',ax=ax2, color='g')\n",
    "plt.xticks([0,1,2,3],df_worst_worst5['company'].to_list(),rotation=45)\n",
    "plt.title('Top 5 worst performing constitutents for the worst Industry: Department Stores')\n",
    "plt.show()\n",
    "##only dour constituents in this industry"
   ]
  },
  {
   "cell_type": "markdown",
   "metadata": {},
   "source": [
    "**Use the  % Price Change [30 Day] to plot the top five ranking for worst and best performance constituents for the best industry.**"
   ]
  },
  {
   "cell_type": "code",
   "execution_count": 168,
   "metadata": {},
   "outputs": [
    {
     "data": {
      "text/html": [
       "<div>\n",
       "<style scoped>\n",
       "    .dataframe tbody tr th:only-of-type {\n",
       "        vertical-align: middle;\n",
       "    }\n",
       "\n",
       "    .dataframe tbody tr th {\n",
       "        vertical-align: top;\n",
       "    }\n",
       "\n",
       "    .dataframe thead th {\n",
       "        text-align: right;\n",
       "    }\n",
       "</style>\n",
       "<table border=\"1\" class=\"dataframe\">\n",
       "  <thead>\n",
       "    <tr style=\"text-align: right;\">\n",
       "      <th></th>\n",
       "      <th>company</th>\n",
       "      <th>pct_pricechange_30day</th>\n",
       "    </tr>\n",
       "  </thead>\n",
       "  <tbody>\n",
       "    <tr>\n",
       "      <th>475</th>\n",
       "      <td>Etsy, Inc.</td>\n",
       "      <td>58.25</td>\n",
       "    </tr>\n",
       "    <tr>\n",
       "      <th>1211</th>\n",
       "      <td>Stamps.com Inc.</td>\n",
       "      <td>48.07</td>\n",
       "    </tr>\n",
       "    <tr>\n",
       "      <th>432</th>\n",
       "      <td>eBay Inc.</td>\n",
       "      <td>27.69</td>\n",
       "    </tr>\n",
       "    <tr>\n",
       "      <th>1033</th>\n",
       "      <td>PetMed Express, Inc.</td>\n",
       "      <td>26.00</td>\n",
       "    </tr>\n",
       "    <tr>\n",
       "      <th>63</th>\n",
       "      <td>Amazon.com, Inc.</td>\n",
       "      <td>16.48</td>\n",
       "    </tr>\n",
       "  </tbody>\n",
       "</table>\n",
       "</div>"
      ],
      "text/plain": [
       "                   company  pct_pricechange_30day\n",
       "475             Etsy, Inc.                  58.25\n",
       "1211       Stamps.com Inc.                  48.07\n",
       "432              eBay Inc.                  27.69\n",
       "1033  PetMed Express, Inc.                  26.00\n",
       "63        Amazon.com, Inc.                  16.48"
      ]
     },
     "execution_count": 168,
     "metadata": {},
     "output_type": "execute_result"
    }
   ],
   "source": [
    "df_best_best5 = df_best.sort_values('pct_pricechange_30day',ascending=False)[['company','pct_pricechange_30day']][:5]\n",
    "df_best_best5"
   ]
  },
  {
   "cell_type": "code",
   "execution_count": 169,
   "metadata": {},
   "outputs": [
    {
     "data": {
      "text/html": [
       "<div>\n",
       "<style scoped>\n",
       "    .dataframe tbody tr th:only-of-type {\n",
       "        vertical-align: middle;\n",
       "    }\n",
       "\n",
       "    .dataframe tbody tr th {\n",
       "        vertical-align: top;\n",
       "    }\n",
       "\n",
       "    .dataframe thead th {\n",
       "        text-align: right;\n",
       "    }\n",
       "</style>\n",
       "<table border=\"1\" class=\"dataframe\">\n",
       "  <thead>\n",
       "    <tr style=\"text-align: right;\">\n",
       "      <th></th>\n",
       "      <th>company</th>\n",
       "      <th>pct_pricechange_30day</th>\n",
       "    </tr>\n",
       "  </thead>\n",
       "  <tbody>\n",
       "    <tr>\n",
       "      <th>187</th>\n",
       "      <td>Booking Holdings Inc.</td>\n",
       "      <td>4.28</td>\n",
       "    </tr>\n",
       "    <tr>\n",
       "      <th>1176</th>\n",
       "      <td>Shutterstock, Inc.</td>\n",
       "      <td>8.44</td>\n",
       "    </tr>\n",
       "    <tr>\n",
       "      <th>484</th>\n",
       "      <td>Expedia Group, Inc.</td>\n",
       "      <td>14.40</td>\n",
       "    </tr>\n",
       "    <tr>\n",
       "      <th>63</th>\n",
       "      <td>Amazon.com, Inc.</td>\n",
       "      <td>16.48</td>\n",
       "    </tr>\n",
       "    <tr>\n",
       "      <th>1033</th>\n",
       "      <td>PetMed Express, Inc.</td>\n",
       "      <td>26.00</td>\n",
       "    </tr>\n",
       "  </tbody>\n",
       "</table>\n",
       "</div>"
      ],
      "text/plain": [
       "                    company  pct_pricechange_30day\n",
       "187   Booking Holdings Inc.                   4.28\n",
       "1176     Shutterstock, Inc.                   8.44\n",
       "484     Expedia Group, Inc.                  14.40\n",
       "63         Amazon.com, Inc.                  16.48\n",
       "1033   PetMed Express, Inc.                  26.00"
      ]
     },
     "execution_count": 169,
     "metadata": {},
     "output_type": "execute_result"
    }
   ],
   "source": [
    "df_best_worst5 = df_best.sort_values('pct_pricechange_30day',ascending=True)[['company','pct_pricechange_30day']][:5]\n",
    "df_best_worst5"
   ]
  },
  {
   "cell_type": "code",
   "execution_count": 170,
   "metadata": {},
   "outputs": [
    {
     "data": {
      "image/png": "[encoded data removed]",
      "text/plain": [
       "<Figure size 1440x576 with 2 Axes>"
      ]
     },
     "metadata": {
      "needs_background": "light"
     },
     "output_type": "display_data"
    }
   ],
   "source": [
    "fig = plt.figure(figsize=(20,8))\n",
    "ax1 = fig.add_subplot(121,  ylabel='% Price Change [30 Days]')\n",
    "df_best_best5['pct_pricechange_30day'].plot(kind='bar',ax=ax1)\n",
    "plt.xticks([0,1,2,3,4],df_best_best5['company'].to_list(),rotation=45)\n",
    "plt.title('Top 5 Best performing constitutents for the best Industry:Internet and Direct Marketing Retail')\n",
    "\n",
    "ax2 = fig.add_subplot(122,  ylabel='% Price Change [30 Days]')\n",
    "df_best_worst5['pct_pricechange_30day'].plot(kind='bar',ax=ax2, color='g')\n",
    "plt.xticks([0,1,2,3,4],df_best_worst5['company'].to_list(),rotation=45)\n",
    "plt.title('Top 5 worst performing constitutents for the best Industry:Internet and Direct Marketing Retail')\n",
    "plt.show()"
   ]
  }
 ],
 "metadata": {
  "kernelspec": {
   "display_name": "Python 3",
   "language": "python",
   "name": "python3"
  },
  "language_info": {
   "codemirror_mode": {
    "name": "ipython",
    "version": 3
   },
   "file_extension": ".py",
   "mimetype": "text/x-python",
   "name": "python",
   "nbconvert_exporter": "python",
   "pygments_lexer": "ipython3",
   "version": "3.7.3"
  }
 },
 "nbformat": 4,
 "nbformat_minor": 2
}
